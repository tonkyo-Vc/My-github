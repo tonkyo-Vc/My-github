{
  "nbformat": 4,
  "nbformat_minor": 0,
  "metadata": {
    "colab": {
      "provenance": [],
      "authorship_tag": "ABX9TyMyXwLUGryV+iq9wmxGmZsZ",
      "include_colab_link": true
    },
    "kernelspec": {
      "name": "python3",
      "display_name": "Python 3"
    },
    "language_info": {
      "name": "python"
    }
  },
  "cells": [
    {
      "cell_type": "markdown",
      "metadata": {
        "id": "view-in-github",
        "colab_type": "text"
      },
      "source": [
        "<a href=\"https://colab.research.google.com/github/tonkyo-Vc/My-github/blob/master/Untitled3.ipynb\" target=\"_parent\"><img src=\"https://colab.research.google.com/assets/colab-badge.svg\" alt=\"Open In Colab\"/></a>"
      ]
    },
    {
      "cell_type": "code",
      "execution_count": 2,
      "metadata": {
        "id": "n5LDhmNjp1Gz"
      },
      "outputs": [],
      "source": [
        "# パッケージのインストール\n",
        "!pip install -q -U google-generativeai\n",
        "\n"
      ]
    },
    {
      "cell_type": "markdown",
      "source": [
        "モジュールのインポート。\n",
        "Markdown出力のユーティリティ関数も準備してます。\n"
      ],
      "metadata": {
        "id": "7Nb62cUhqBNO"
      }
    },
    {
      "cell_type": "code",
      "source": [
        "import pathlib\n",
        "import textwrap\n",
        "import google.generativeai as genai\n",
        "from google.colab import userdata\n",
        "from IPython.display import display\n",
        "from IPython.display import Markdown\n",
        "\n",
        "# Markdown出力\n",
        "def to_markdown(text):\n",
        "    text = text.replace(\"•\", \"  *\")\n",
        "    return Markdown(textwrap.indent(text, \"> \", predicate=lambda _: True))"
      ],
      "metadata": {
        "id": "4nmXiZCVqDct"
      },
      "execution_count": 3,
      "outputs": []
    },
    {
      "cell_type": "code",
      "source": [
        "# APIキーの準備\n",
        "GOOGLE_API_KEY=userdata.get(\"GOOGLE_API_KEY\")\n",
        "genai.configure(api_key=GOOGLE_API_KEY)"
      ],
      "metadata": {
        "id": "53J5REAZqUaA"
      },
      "execution_count": 4,
      "outputs": []
    },
    {
      "cell_type": "code",
      "source": [
        "# モデルの準備\n",
        "model = genai.GenerativeModel('gemini-pro')"
      ],
      "metadata": {
        "id": "yoFw-M04qYK5"
      },
      "execution_count": 5,
      "outputs": []
    },
    {
      "cell_type": "code",
      "source": [
        "# 推論の実行\n",
        "response = model.generate_content(\"リーマンショックとはどのような事件だったかを教えて\")\n",
        "to_markdown(response.text)"
      ],
      "metadata": {
        "colab": {
          "base_uri": "https://localhost:8080/",
          "height": 399
        },
        "id": "WsEcZh08qbyu",
        "outputId": "bb78861f-103c-4b53-bdc7-1b72983b77d0"
      },
      "execution_count": 8,
      "outputs": [
        {
          "output_type": "execute_result",
          "data": {
            "text/plain": [
              "<IPython.core.display.Markdown object>"
            ],
            "text/markdown": "> **リーマンショック**\n> \n> リーマンショックは、2008年に発生した大規模な金融危機で、次のような出来事によって引き起こされました。\n> \n> * **住宅バブルの崩壊：** 2000年代初頭、住宅価格が急速に上昇し、サブプライム住宅ローン（信用力の低い借り手に貸し付けられるローン）の発行が増加しました。\n> * **サブプライム住宅ローンのデフォルト：** 住宅価格が下落すると、多くの借り手が住宅ローンの返済に苦労するようになり、多くのサブプライム住宅ローンがデフォルト（債務不履行）しました。\n> * **証券化：** サブプライム住宅ローンは、モーゲージ債券や抵当証券と呼ばれる証券に証券化され、投資家に販売されました。\n> * **証券の格下げ：** サブプライム住宅ローンのデフォルトが増えると、格付け機関がそれら証券の格下げを行いました。\n> * **融資の枯渇：** 証券の格下げにより、銀行は相互に融資を行うことに消極的になり、融資市場が枯渇しました。\n> \n> **リーマン・ブラザーズの破綻：**\n> \n> この危機は、2008年9月15日に投資銀行リーマン・ブラザーズが破綻したことで最高潮に達しました。これは、米国史上最大の企業破綻で、金融システムに衝撃を与えました。\n> \n> **結果：**\n> \n> リーマンショックは、世界的な金融システムに壊滅的な影響を与えました。\n> \n> * **株式市場の暴落：** 株価は大幅に下落し、多くの投資家が莫大な損失を出しました。\n> * **不況の発生：** 融資の枯渇と消費者支出の減少により、世界的に不況が発生しました。\n> * **政府介入：** 政府は危機に対処するため、銀行救済策、景気刺激策、金融規制の強化などの措置を実施しました。\n> * **金融システムの改革：** リーマンショック以降、金融システムの改革が行われ、規制が強化され、透明性が向上しました。"
          },
          "metadata": {},
          "execution_count": 8
        }
      ]
    }
  ]
}